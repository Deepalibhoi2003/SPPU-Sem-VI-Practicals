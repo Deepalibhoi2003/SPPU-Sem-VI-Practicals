{
 "cells": [
  {
   "metadata": {},
   "cell_type": "markdown",
   "source": [
    "# Madhur Jaripatke\n",
    "### Roll No. 48\n",
    "### TE A Computer\n",
    "### RMDSSOE, Warje, Pune\n",
    "\n",
    "###  2. Data Analytics, I\n",
    "Create a Linear Regression Model using Python/R to predict home prices using Boston Housing \n",
    "Dataset (https://www.kaggle.com/c/boston-housing). The Boston Housing dataset contains \n",
    "information about various houses in Boston through different parameters. There are 506 samples \n",
    "and 14 feature variables in this dataset. \n",
    "The objective is to predict the value of prices of the house using the given features."
   ],
   "id": "1604aa114ce6cb31"
  },
  {
   "cell_type": "code",
   "execution_count": null,
   "id": "initial_id",
   "metadata": {
    "collapsed": true
   },
   "outputs": [],
   "source": ""
  }
 ],
 "metadata": {
  "kernelspec": {
   "display_name": "Python 3",
   "language": "python",
   "name": "python3"
  },
  "language_info": {
   "codemirror_mode": {
    "name": "ipython",
    "version": 2
   },
   "file_extension": ".py",
   "mimetype": "text/x-python",
   "name": "python",
   "nbconvert_exporter": "python",
   "pygments_lexer": "ipython2",
   "version": "2.7.6"
  }
 },
 "nbformat": 4,
 "nbformat_minor": 5
}
