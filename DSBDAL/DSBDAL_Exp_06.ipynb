{
 "cells": [
  {
   "metadata": {},
   "cell_type": "markdown",
   "source": [
    "# Madhur Jaripatke\n",
    "### Roll No. 48\n",
    "### TE A Computer\n",
    "### RMDSSOE, Warje, Pune\n",
    "\n",
    "###  2. Data Analytics, III\n",
    "1. Implement Simple Naïve Bayes classification algorithm using Python/R on iris.csv \n",
    "dataset.\n",
    "2. Compute Confusion matrix to find TP, FP, TN, FN, Accuracy, Error rate, Precision, \n",
    "Recall on the given dataset."
   ],
   "id": "e973c88375f35104"
  },
  {
   "cell_type": "code",
   "execution_count": null,
   "id": "initial_id",
   "metadata": {
    "collapsed": true
   },
   "outputs": [],
   "source": [
    ""
   ]
  }
 ],
 "metadata": {
  "kernelspec": {
   "display_name": "Python 3",
   "language": "python",
   "name": "python3"
  },
  "language_info": {
   "codemirror_mode": {
    "name": "ipython",
    "version": 2
   },
   "file_extension": ".py",
   "mimetype": "text/x-python",
   "name": "python",
   "nbconvert_exporter": "python",
   "pygments_lexer": "ipython2",
   "version": "2.7.6"
  }
 },
 "nbformat": 4,
 "nbformat_minor": 5
}
